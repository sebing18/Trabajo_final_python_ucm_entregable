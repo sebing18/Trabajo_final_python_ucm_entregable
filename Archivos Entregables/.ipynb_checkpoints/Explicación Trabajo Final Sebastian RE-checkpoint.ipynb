{
 "cells": [
  {
   "cell_type": "markdown",
   "id": "609209ac-b9a8-449a-a5e4-50c2ead13b68",
   "metadata": {
    "tags": []
   },
   "source": [
    "# Man in the middle attack"
   ]
  },
  {
   "cell_type": "markdown",
   "id": "367bd717-5083-4067-8766-b0a42426039a",
   "metadata": {},
   "source": [
    "![forward](./../Descargas/3.png)"
   ]
  },
  {
   "cell_type": "markdown",
   "id": "31a3fed5-62b5-4348-901f-50225e5e7de7",
   "metadata": {},
   "source": [
    "Este repositorio contiene el script necesario para llevar acabo un ataque 'man in the middle'. y capturar los paquetes http, consiguiendo la URL, username y password del usuario Victima.\n",
    "\n",
    "\n",
    "\n",
    "## Configuración del entorno \n",
    "\n",
    "1. verificamos que en kali,el forward este habilitado\n",
    "\n",
    "```\n",
    "sudo -s\n",
    "```\n",
    "\n",
    "```\n",
    "cat /proc/sys/net/ipv4/ip_forward\n",
    "```\n"
   ]
  },
  {
   "cell_type": "markdown",
   "id": "0ab29d26-0acc-4535-9a6f-e1587e477597",
   "metadata": {},
   "source": [
    "![forward2](./../Descargas/1.png)"
   ]
  },
  {
   "cell_type": "markdown",
   "id": "4767c4c7-3a0f-4e78-abb5-7e390ea5663d",
   "metadata": {},
   "source": [
    "si me da 1 esta habilitado\n",
    "\n",
    "sino esta habilitado nos da 0\n",
    "\n",
    "**como lo habilito:**\n",
    "\n",
    "```\n",
    "echo 1 > /proc/sys/net/ipv4/ip_forward\n",
    "```\n",
    "\n",
    "**verificamos nuevamente si quedo habilitado:**\n",
    "\n",
    "\n",
    "```\n",
    "cat /proc/sys/net/ipv4/ip_forward\n",
    "```\n",
    "\n",
    "\n",
    "**2. revisamos el archivo /etc/sysctl.conf**\n",
    "\n",
    "```\n",
    "nano /etc/sysctl.conf\n",
    "```\n",
    "\n",
    "quito el comentario (#) para habilitar las siguientes dos lineas y las igualo con valor =1\n",
    "\n",
    "```\n",
    "net.ipv4.ip_forward=1\n",
    "net.ipv6.conf.all.forwarding=1\n",
    "```"
   ]
  },
  {
   "cell_type": "markdown",
   "id": "20780ffb-8fa4-45b7-b5f6-e2cebfe27219",
   "metadata": {},
   "source": [
    "![forward2](./../Descargas/README/2.png)"
   ]
  },
  {
   "cell_type": "markdown",
   "id": "1c5032cb-e5ac-432a-b5d0-9e9779e1ffc2",
   "metadata": {},
   "source": [
    "\n",
    "guardamos los cambios.\n",
    "**NOTA: importante DEBO REINICIAR EL SERVER** para que tome los cambios.\n",
    "\n",
    "\n",
    "**Recomendacion**\n",
    "\n",
    "\n",
    "Para poder seguir los pasos descritos aquí, La primer recomendacion y será descargar el repositorio en el ordenador. Para ello, debemos contar con la herramienta git.bash que nos facilitara la administracion del repositorio\n",
    "\n",
    "https://git-scm.com/downloads\n",
    "\n",
    "anexo un pequeño tutorial que nos explica detalladamente \"el pelado nerd\"\n",
    "\n",
    "https://www.youtube.com/watch?v=kEPF-MWGq1w\n",
    "\n",
    "Una vez dispongamos de ella, podemos proceder a clonar el repositorio mediante el comando:\n",
    "\n",
    "```\n",
    "$ git clone https://github.com/perxeux/Walter_Salazar\n",
    "```\n",
    "\n",
    "Para llevar a cabo la demostración del ataque, vamos a utilizar al menos 2  máquinas virtuales. Dado que la configuración de dichas máquinas puede resultar compleja para un usuario nuevo, explicare muy detalladamente como sera el ataque y la configuracion en ambas maquinas.\n",
    "\n",
    "windows 7 ---> victima\n",
    "Linux Kali  ---> Atacante\n",
    "\n",
    "Tendremos el entorno de trabajo montado y configurado. Este entorno estará compuesto por una red interna, en la cual están conectadas las tres máquinas (router, víctima y atacante) en las direcciones ip *192.168.0.1*, *192.168.0.13* y *192.168.0.12* respectivamente. A partir de este momento, solo vamos a trabajar usando la máquina víctima: windows 7 (desde la interfaz gráfica) y la máquina atacante Linux Kali (desde la consola mediante conexión ssh).\n",
    "\n",
    "\n"
   ]
  },
  {
   "cell_type": "markdown",
   "id": "4bfaf6a8-ead9-444c-a2d6-2e9d859696b8",
   "metadata": {},
   "source": [
    "\n",
    "\n",
    "\n",
    "## Descarga e instalación de las herramientas necesarias\n",
    "\n",
    "Para poder realizar el ataque, se pueden utilizar varias extrategias, pero en este caso utilizaremos *spoofer*, en un script que nos permitirá realizar el ataque \"man in the middle\" propiamente dicho, mediante la falsifiación de paquetes ARP. haciendole creer a la victima que nuestro linux es el router, y haciendole creer al router que nuestro linux es el host, haciendo un intermediario entre el envio de paquetes entre el router y el host (windows 7).\n",
    "\n",
    "\n",
    "## Ejecución del ataque\n",
    "### Finalidad y explicación del ataque\n",
    "\n",
    "La finalidad de este ataque es demostrar como poder saltarse la seguridad establecida, la cual fuerza que las comunicaciones HTTP vayan sobre un canal TLS/SSL para hacer las mismas seguras. Para ello, vamos a trabajar con una idea muy sencilla, un esquema de Man in the middle (MITM), mediante el cual realizaremos modificaciones a los paquetes ARP destinados en un principio a la máquina víctima para hacer que dicho sistema viaje atraves de mi kali linux. De esta manera, se consigue que el TTL(Time to live) de la configuración HSTS caduque, y por tanto, la capa de seguridad que protege las conexiones HTTP queda eliminada. Una vez eliminada la seguridad de la conexión, este se conectara ya no al router sino que lo hara atraves de el equipo atacante dando la posibilidad de capturar los paquetes necesarios para darnos como resultado final, el url ingresada, el usuario y contraseña permitiendonos obtener  información sobre las web que visita la víctima.\n",
    "\n",
    "\n",
    "### Protocolos \n",
    "\n",
    "- **ARP** -> Es el protocolo de resolución de direcciones, mediante el cual en una red interna se obtiene una dirección física a partir de una dirección IP.\n",
    "\n",
    "- **HTTP** ->  Es un protocolo sin estado utilizado para realizar las transferencias en la World Wide Web.\n",
    "\n",
    "- **HTTPS** -> Basado en HTTP y destinado a la transferencia segura de HTTP mediante el uso de un cifrado SSL/TLS que crea un canal de cifrado.\n",
    "\n",
    "- **SSL/TLS** -> Son protocolos criptográficos que proporcionan comunicaciones seguras por una red. usan cifrados X.509 (asimétricos) para autenticar la contraparte con quien se estén comunicando, y para intercambiar una llave simétrica.\n",
    "\n",
    "\n",
    "\n",
    "\n"
   ]
  },
  {
   "cell_type": "code",
   "execution_count": null,
   "id": "4b403ea6-9811-43d0-acd6-be7466d11324",
   "metadata": {},
   "outputs": [],
   "source": [
    "\n",
    "\n",
    "\n",
    "\n",
    "\n"
   ]
  }
 ],
 "metadata": {
  "kernelspec": {
   "display_name": "Python 3 (ipykernel)",
   "language": "python",
   "name": "python3"
  },
  "language_info": {
   "codemirror_mode": {
    "name": "ipython",
    "version": 3
   },
   "file_extension": ".py",
   "mimetype": "text/x-python",
   "name": "python",
   "nbconvert_exporter": "python",
   "pygments_lexer": "ipython3",
   "version": "3.9.13"
  }
 },
 "nbformat": 4,
 "nbformat_minor": 5
}
