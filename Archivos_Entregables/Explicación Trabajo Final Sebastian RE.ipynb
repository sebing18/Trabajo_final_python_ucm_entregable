{
 "cells": [
  {
   "cell_type": "markdown",
   "id": "5bc3e54c-3f77-43d8-bc26-587cf78c2f7a",
   "metadata": {},
   "source": [
    "# Trabajo_final_python_ucm_entregable\n",
    "Trabajo_final_python_ucm Este repositorio se crea con el fin de compartir con el profesor Cesar Muñoz Araya, el trabajo final para su materia ***Módulo de desarrollo para el pentesting*** de la especialización de ***ciberseguridad*** de la Universidad Católica de Manizales (UCM)."
   ]
  },
  {
   "cell_type": "markdown",
   "id": "2dbfe402-3e10-496b-bbbb-275ff8d43584",
   "metadata": {},
   "source": [
    "## En que consiste este laboratorio\n",
    "*Este laboratorio pretende crear un hombre en el medio **(MITM)** para capturar los paquetes HTTP del computador víctima, por medio de un script creado con el lenguaje de programación python, para finalmente  generar un archivo .JSON con los usuarios y contraseñas capturados en los paquetes de la página: ([**Altoro Mutual**](http://altoromutual.com/login.jsp)) que se usó de ejemplo para este laboratorio, aclarando que puede servir para cualquier página HTTP.*\n",
    "\n",
    "La finalidad de este ataque es demostrar como poder saltarse la seguridad establecida, la cual fuerza que las comunicaciones HTTP vayan sobre un canal TLS/SSL para hacer las mismas seguras. Para ello, vamos a trabajar con una idea muy sencilla, un esquema de Man in the middle (MITM), mediante el cual realizaremos modificaciones a los paquetes ARP destinados en un principio a la máquina víctima para hacer que dicho sistema viaje a través de mi kali linux. De esta manera, se consigue que el TTL(Time to live) de la configuración HSTS caduque, y por tanto, la capa de seguridad que protege las conexiones HTTP queda eliminada. Una vez eliminada la seguridad de la conexión, este se conectara ya no al router sino que lo hará a través de el equipo atacante dando la posibilidad de capturar los paquetes necesarios para darnos como resultado final, el url ingresada, el usuario y contraseña permitiéndonos obtener información sobre las web que visita la víctima.\n",
    "\n",
    "### Protocolos:\n",
    "\n",
    "- **ARP** -> Es el protocolo de resolución de direcciones, mediante el cual en una red interna se obtiene una dirección física a partir de una dirección IP.\n",
    "- **HTTP** ->  Es un protocolo sin estado utilizado para realizar las transferencias en la World Wide Web.\n",
    "- **HTTPS** -> Basado en HTTP y destinado a la transferencia segura de HTTP mediante el uso de un cifrado SSL/TLS que crea un canal de cifrado.\n",
    "- **SSL/TLS** -> Son protocolos criptográficos que proporcionan comunicaciones seguras por una red. usan cifrados X.509 (asimétricos) para autenticar la contraparte con quien se estén comunicando, y para intercambiar una llave simétrica."
   ]
  },
  {
   "cell_type": "markdown",
   "id": "855034d4-9c89-410f-a64f-bbe818a4c51b",
   "metadata": {},
   "source": [
    "## Escenario\n",
    "Lo primero que se hizo fue identificar las IP's de cada uno de los dispositivos que van a estar en el escenario para este laboratorio.\n",
    "\n",
    "| IP PC Víctima | IP Router | IP PC Atacante |\n",
    "| :-------- | :-------: | --------: |\n",
    "| 192.168.1.19 | 192.168.1.254 | 192.168.1.24 |\n",
    "| **Windows10** | **hitron** | **Kali Linux** |\n",
    "\n",
    "![escenario](./../Captutas_de_Pantalla_Evidencias/escenario.jpg)"
   ]
  },
  {
   "cell_type": "markdown",
   "id": "609209ac-b9a8-449a-a5e4-50c2ead13b68",
   "metadata": {
    "tags": []
   },
   "source": [
    "## Man in the middle attack\n",
    "Pasos para hacer el proceso del hombre en el medio\n",
    " 1. **Identificar la mac del router**\n",
    " Para esto abrimos el terminal en el equipo victima y ejegutamos el siguiete comando: \n",
    "> ipconfig\n",
    "\n",
    "![ipconfigVictima](./../Captutas_de_Pantalla_Evidencias/ipconfigVictima.jpeg)\n",
    "\n",
    "Con este comando podemos identificar la IP del router que es **192.168.1.254**\n",
    "Luego en la mista terminal del equipo víctima ejecutamos el siguiente comando:\n",
    "\n",
    "> arp -a\n",
    "\n",
    "![arpVictima](./../Captutas_de_Pantalla_Evidencias/arpVictima.jpeg)\n",
    "\n",
    "Acá identificamos la mac del router, para que mas adelante cuando se cree el hombre en el medio, notar que dicha mac cambia.\n",
    " 2. **Hacemos la configuración del entorno en el equipo del atacate *(kali linux)*:**\n",
    " Para ello tenemos que estar cómo usuarios root, y para iniciar el terminal cómo usuario root, ejecutamos el siguiente comando seguido de la clave:\n",
    "> sudo -s\n",
    "\n",
    "Una vez iniciamos cómo root, verificamos que en kali, el forward esté habilitado ***(Que sea igual a 1)*** ejecutando el siguiente comando:\n",
    "\n",
    "> cat /proc/sys/net/ipv4/ip_forward\n",
    "\n",
    "![catForward](./../Captutas_de_Pantalla_Evidencias/catForward.jpeg)\n",
    "\n",
    "Si el valor es igual a cero *(0)* debemos colocarlo en uno *(1)* con el siguiente comando:\n",
    "\n",
    "> echo 1 > /proc/sys/net/ipv4/ip_forward\n",
    "\n",
    "Y volvemos a ejecutar el comando de **cat** para revisar si cambió de cero a uno.\n",
    "\n",
    "![catEcho1](./../Captutas_de_Pantalla_Evidencias/catEcho1.jpeg)\n",
    "\n",
    " 3. **Revisamos el archivo /etc/sysctl.conf**\n",
    " Para ello ejecutamos el siguiente comando:\n",
    "> nano /etc/sysctl.conf\n",
    "\n",
    "![nanoSinEditar](./../Captutas_de_Pantalla_Evidencias/nanoSinEditar.jpeg)\n",
    "\n",
    "Y descomentamos dónde dice **ipv4** y **ipv6** guardamos los cambios.\n",
    "**NOTA: importante DEBO REINICIAR EL SERVER** para que tome los cambios.\n",
    "\n",
    "![nanoEditado](./../Captutas_de_Pantalla_Evidencias/nanoEditado.jpeg)"
   ]
  },
  {
   "cell_type": "markdown",
   "id": "efed4244-94b1-4519-b403-14ef72400170",
   "metadata": {},
   "source": [
    "## Instalación y configuración de las herramientas y paquetes\n",
    "Para poder realizar el ataque, se pueden utilizar varias estrategias, pero en este caso utilizaremos _spoofer_, en un script que nos permitirá realizar el ataque \"man in the middle\" propiamente dicho, mediante la falsificación de paquetes ARP. haciéndole creer a la victima que nuestro linux es el router, y haciéndole creer al router que nuestro linux es el host, haciendo un intermediario entre el envío de paquetes entre el router y el host (windows 10).\n",
    "\n",
    "**Herramientas:**\n",
    " - [ ] Python *v.3.9.13*\n",
    " - [ ] pip *(gestor de paquetes de python)*\n",
    "\n",
    "**Paquetes:**\n",
    " - [ ] scapy | ***pip install scapy***\n",
    " - [ ] scapy_http | ***pip install scapy_http***"
   ]
  },
  {
   "cell_type": "markdown",
   "id": "215217d9-9899-4ef3-905d-d788e071a010",
   "metadata": {},
   "source": [
    "## Ejecución del ataque\n",
    "\n",
    " - Primero clonamos el repositorio con el siguiente comando:\n",
    "\n",
    "> git clone https://github.com/sebing18/Trabajo_final_python_ucm_entregable.git\n",
    "\n",
    " - Después nos vamos al directorio del repositorio clonado y ejecutamos el siguiente comando para validar que ya estamos dentro del repo y para saber la rama que seria main ***(master):***\n",
    " \n",
    "> git branch\n",
    "\n",
    "![gitBranch](./../Captutas_de_Pantalla_Evidencias/gitBranch.jpeg)\n",
    "\n",
    "Una vez estemos dentro del proyecto, nos dirigimos a la carpeta **<Archivos_Entregables>** y estando dentro de la carpeta ejecutamos el script **<sre_arp_spoofing_funcional.py>** de la siguiente forma:\n",
    "\n",
    "> python3 sre_arp_spoofing_funcional.py\n",
    "\n",
    "![atacando](./../Captutas_de_Pantalla_Evidencias/atacando.jpeg)\n",
    "\n",
    "**Nota:** *Si el siguiente error sale; reiniciamos la red, con el siguiente comando y ya con esto debería arreglarse:*\n",
    "\n",
    "> sudo systemctl restart NetworkManager.service\n",
    "\n",
    "![errorRed](./../Captutas_de_Pantalla_Evidencias/errorRed.jpeg)\n",
    "\n",
    "Y ya con esto empezamos a capturar todo el tráfico HTTP, para cancelar el proceso, presionamos **ctrl+z** y nos dirigimos al archivo JSON **<captura_paquetesKey.json>** que tendrá todos los usuarios y contraseñas capturados por HTTP."
   ]
  },
  {
   "cell_type": "markdown",
   "id": "16dd560f-8c2b-4bbe-bae3-1280def21b8b",
   "metadata": {},
   "source": [
    "## Capturas de pantalla, con los diferentes resultados en la creación del archivo .JSON:\n",
    "\n",
    " - **Con el método split**\n",
    " \n",
    "![1_metodo_split](./../Captutas_de_Pantalla_Evidencias/1_metodo_split.jpeg)\n",
    "\n",
    " - **Creación del ciclo FOR para la variable *diccionario***\n",
    " \n",
    "![forDiccionario](./../Captutas_de_Pantalla_Evidencias/2_ciclo_for_variable_diccionario.jpeg)\n",
    "\n",
    "- **Usando el médoto extend**\n",
    "\n",
    "![1_metodo_split](./../Captutas_de_Pantalla_Evidencias/3_metodo_extend.jpg)"
   ]
  }
 ],
 "metadata": {
  "kernelspec": {
   "display_name": "Python 3 (ipykernel)",
   "language": "python",
   "name": "python3"
  },
  "language_info": {
   "codemirror_mode": {
    "name": "ipython",
    "version": 3
   },
   "file_extension": ".py",
   "mimetype": "text/x-python",
   "name": "python",
   "nbconvert_exporter": "python",
   "pygments_lexer": "ipython3",
   "version": "3.9.13"
  }
 },
 "nbformat": 4,
 "nbformat_minor": 5
}
